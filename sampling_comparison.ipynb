{
 "nbformat": 4,
 "nbformat_minor": 0,
 "metadata": {
  "accelerator": "GPU",
  "colab": {
   "name": "sampling_comparison.ipynb",
   "provenance": [],
   "collapsed_sections": [],
   "toc_visible": true
  },
  "kernelspec": {
   "display_name": "Python 3",
   "language": "python",
   "name": "python3"
  },
  "language_info": {
   "codemirror_mode": {
    "name": "ipython",
    "version": 3
   },
   "file_extension": ".py",
   "mimetype": "text/x-python",
   "name": "python",
   "nbconvert_exporter": "python",
   "pygments_lexer": "ipython3",
   "version": "3.8.5"
  }
 },
 "cells": [
  {
   "cell_type": "code",
   "metadata": {
    "id": "pS39p6sT45_V",
    "pycharm": {
     "name": "#%%\n"
    }
   },
   "source": [
    "%matplotlib inline"
   ],
   "execution_count": 1,
   "outputs": []
  },
  {
   "cell_type": "code",
   "metadata": {
    "colab": {
     "base_uri": "https://localhost:8080/"
    },
    "id": "uIeJez6D5b7d",
    "outputId": "83e801d6-f2f6-41cc-d9e2-f96541a76704",
    "pycharm": {
     "name": "#%%\n"
    }
   },
   "source": [
    "!pip install scikit-optimize"
   ],
   "execution_count": 2,
   "outputs": [
    {
     "name": "stdout",
     "output_type": "stream",
     "text": [
      "Collecting scikit-optimize\r\n",
      "  Using cached scikit_optimize-0.9.0-py2.py3-none-any.whl (100 kB)\r\n",
      "Requirement already satisfied: numpy>=1.13.3 in /home/hao/miniconda3/envs/NNBO/lib/python3.8/site-packages (from scikit-optimize) (1.22.3)\r\n",
      "Requirement already satisfied: scipy>=0.19.1 in /home/hao/miniconda3/envs/NNBO/lib/python3.8/site-packages/scipy-1.8.1-py3.8-linux-x86_64.egg (from scikit-optimize) (1.8.1)\r\n",
      "Collecting scikit-learn>=0.20.0\r\n",
      "  Using cached scikit_learn-1.1.1-cp38-cp38-manylinux_2_17_x86_64.manylinux2014_x86_64.whl (31.2 MB)\r\n",
      "Collecting joblib>=0.11\r\n",
      "  Using cached joblib-1.1.0-py2.py3-none-any.whl (306 kB)\r\n",
      "Collecting pyaml>=16.9\r\n",
      "  Using cached pyaml-21.10.1-py2.py3-none-any.whl (24 kB)\r\n",
      "Collecting PyYAML\r\n",
      "  Downloading PyYAML-6.0-cp38-cp38-manylinux_2_5_x86_64.manylinux1_x86_64.manylinux_2_12_x86_64.manylinux2010_x86_64.whl (701 kB)\r\n",
      "\u001B[K     |████████████████████████████████| 701 kB 488 kB/s eta 0:00:01\r\n",
      "\u001B[?25hCollecting threadpoolctl>=2.0.0\r\n",
      "  Using cached threadpoolctl-3.1.0-py3-none-any.whl (14 kB)\r\n",
      "Installing collected packages: threadpoolctl, PyYAML, joblib, scikit-learn, pyaml, scikit-optimize\r\n",
      "Successfully installed PyYAML-6.0 joblib-1.1.0 pyaml-21.10.1 scikit-learn-1.1.1 scikit-optimize-0.9.0 threadpoolctl-3.1.0\r\n"
     ]
    }
   ]
  },
  {
   "cell_type": "markdown",
   "metadata": {
    "id": "ZUFKkFdJ45_V",
    "pycharm": {
     "name": "#%% md\n"
    }
   },
   "source": [
    "\n",
    "# Comparing initial point generation methods\n",
    "\n",
    "Holger Nahrstaedt 2020\n",
    "\n",
    ".. currentmodule:: skopt\n",
    "\n",
    "Bayesian optimization or sequential model-based optimization uses a surrogate\n",
    "model to model the expensive to evaluate function `func`. There are several\n",
    "choices for what kind of surrogate model to use. This notebook compares the\n",
    "performance of:\n",
    "\n",
    "* Halton sequence,\n",
    "* Hammersly sequence,\n",
    "* Sobol sequence and\n",
    "* Latin hypercube sampling\n",
    "\n",
    "as initial points. The purely random point generation is used as\n",
    "a baseline.\n"
   ]
  },
  {
   "cell_type": "code",
   "metadata": {
    "colab": {
     "base_uri": "https://localhost:8080/"
    },
    "id": "WRZe_L1q45_V",
    "outputId": "f6d59ecf-485a-446b-fafb-612c60a194f8",
    "pycharm": {
     "name": "#%%\n"
    }
   },
   "source": [
    "print(__doc__)\n",
    "import numpy as np\n",
    "np.random.seed(123)\n",
    "import matplotlib.pyplot as plt"
   ],
   "execution_count": 3,
   "outputs": [
    {
     "name": "stdout",
     "output_type": "stream",
     "text": [
      "Automatically created module for IPython interactive environment\n"
     ]
    }
   ]
  },
  {
   "cell_type": "markdown",
   "metadata": {
    "id": "6gfvn2kI45_V",
    "pycharm": {
     "name": "#%% md\n"
    }
   },
   "source": [
    "## Toy model\n",
    "\n",
    "We will use the :class:`benchmarks.hart6` function as toy model for the expensive function.\n",
    "In a real world application this function would be unknown and expensive\n",
    "to evaluate.\n",
    "\n"
   ]
  },
  {
   "cell_type": "code",
   "metadata": {
    "id": "HUzkAEDH45_V",
    "pycharm": {
     "name": "#%%\n"
    }
   },
   "source": [
    "from skopt.benchmarks import hart6 as hart6_\n",
    "# from skopt.benchmarks import hart3 as hart3_\n",
    "# redefined `hart6` to allow adding arbitrary \"noise\" dimensions\n",
    "def hart6(x, noise_level=0.):\n",
    "    return hart6_(x[:6]) + noise_level * np.random.randn()\n",
    "\n",
    "def hart3(x, noise_level=0.):\n",
    "    return hart6_(x[:3] + [0,0,0]) + noise_level * np.random.randn()\n",
    "\n",
    "# def hart3(x, noise_level=0.):\n",
    "#     return hart3_(x[:3]) + noise_level * np.random.randn()\n",
    "\n",
    "from skopt.benchmarks import branin as _branin\n",
    "\n",
    "def branin(x, noise_level=0.):\n",
    "    return _branin(x) + noise_level * np.random.randn()"
   ],
   "execution_count": 4,
   "outputs": []
  },
  {
   "cell_type": "code",
   "metadata": {
    "id": "XgIBau3O45_V",
    "pycharm": {
     "name": "#%%\n"
    }
   },
   "source": [
    "from matplotlib.pyplot import cm\n",
    "import time\n",
    "from skopt import gp_minimize, forest_minimize, dummy_minimize\n",
    "\n",
    "def plot_convergence(result_list, true_minimum=None, yscale=None, title=\"Convergence plot\"):\n",
    "\n",
    "    ax = plt.gca()\n",
    "    ax.set_title(title)\n",
    "    ax.set_xlabel(\"Number of iterations\")\n",
    "    ax.set_ylabel(r\"Gap metric\")\n",
    "    ax.grid()\n",
    "    if yscale is not None:\n",
    "        ax.set_yscale(yscale)\n",
    "    colors = cm.hsv(np.linspace(0.25, 1.0, len(result_list)))\n",
    "\n",
    "    for results, color in zip(result_list, colors):\n",
    "        name, results = results\n",
    "        n_calls = len(results[0].x_iters)\n",
    "        iterations = range(1, n_calls + 1)\n",
    "        mins = [[np.min(r.func_vals[:i]) for i in iterations]\n",
    "                for r in results]\n",
    "        # ax.plot(iterations, (np.mean(mins, axis=0) - np.mean(mins, axis=0)[0])/(true_minimum - np.mean(mins, axis=0)[0]), c=color, label=name)\n",
    "        ax.errorbar(iterations, (np.mean(mins, axis=0) - np.mean(mins, axis=0)[0])/(true_minimum - np.mean(mins, axis=0)[0]),\n",
    "                    yerr=np.std((mins - np.mean(mins, axis=0)[0])/(true_minimum - np.mean(mins, axis=0)[0]), axis=0), c=color, label=name)\n",
    "        print(np.std((mins - np.mean(mins, axis=0)[0])/(true_minimum - np.mean(mins, axis=0)[0]), axis=0))    \n",
    "    # if true_minimum:\n",
    "    #     ax.axhline(true_minimum, linestyle=\"--\",\n",
    "    #                color=\"r\", lw=1,\n",
    "    #                label=\"True minimum\")\n",
    "    ax.legend(loc=\"best\")\n",
    "    return ax\n",
    "\n",
    "\n",
    "def run(minimizer, acq_func,\n",
    "        n_initial_points=25, n_repeats=1):\n",
    "    return [minimizer(func, bounds, n_initial_points=n_initial_points,\n",
    "                      acq_func = acq_func,\n",
    "                      n_calls=n_calls, random_state=n)\n",
    "            for n in range(n_repeats)]\n",
    "\n",
    "\n",
    "def run_measure(acq_func, n_initial_points=25):\n",
    "    start = time.time()\n",
    "    # n_repeats must set to a much higher value to obtain meaningful results.\n",
    "    n_repeats = 1\n",
    "    res = run(gp_minimize, acq_func,\n",
    "              n_initial_points=n_initial_points, n_repeats=n_repeats)\n",
    "    duration = time.time() - start\n",
    "    # print(\"%s %s: %.2f s\" % (initial_point_generator,\n",
    "    #                          str(init_point_gen_kwargs),\n",
    "    #                          duration))\n",
    "    return res"
   ],
   "execution_count": 5,
   "outputs": []
  },
  {
   "cell_type": "markdown",
   "metadata": {
    "id": "iFRmTNeh45_W",
    "pycharm": {
     "name": "#%% md\n"
    }
   },
   "source": [
    "## Objective\n",
    "\n",
    "The objective of this example is to find one of these minima in as\n",
    "few iterations as possible. One iteration is defined as one call\n",
    "to the :class:`benchmarks.hart6` function.\n",
    "\n",
    "We will evaluate each model several times using a different seed for the\n",
    "random number generator. Then compare the average performance of these\n",
    "models. This makes the comparison more robust against models that get\n",
    "\"lucky\".\n",
    "\n"
   ]
  },
  {
   "cell_type": "markdown",
   "metadata": {
    "id": "xmIJgALXC-6z",
    "pycharm": {
     "name": "#%% md\n"
    }
   },
   "source": [
    "# New Section"
   ]
  },
  {
   "cell_type": "code",
   "metadata": {
    "id": "KznyYGxI45_W",
    "pycharm": {
     "name": "#%%\n"
    }
   },
   "source": [
    "#@title Test Function\n",
    "example = \"hart3\" #@param [\"branin\", \"hart3\", \"hart6\"]\n",
    "from functools import partial\n",
    "# example = \"branin\"\n",
    "\n",
    "if example == \"hart6\":\n",
    "    func = partial(hart6, noise_level=0.1)\n",
    "    bounds = [(0., 1.), ] * 6\n",
    "    true_minimum = -3.32237\n",
    "    n_calls = 100\n",
    "    n_initial_points = 25\n",
    "    yscale = None\n",
    "    title = \"Convergence plot - hart6\"\n",
    "if example == \"hart3\":\n",
    "    func = partial(hart3, noise_level=0.1)\n",
    "    bounds = [(0., 1.), ] * 3\n",
    "    true_minimum = -3.32237\n",
    "    n_calls = 100\n",
    "    n_initial_points = 25\n",
    "    yscale = None\n",
    "    title = \"Convergence plot - hart3\"\n",
    "else:\n",
    "    func = partial(branin, noise_level=2.0)\n",
    "    bounds = [(-5.0, 10.0), (0.0, 15.0)]\n",
    "    true_minimum = 0.397887\n",
    "    n_calls = 100\n",
    "    n_initial_points = 25\n",
    "    yscale=\"log\"\n",
    "    title = \"Convergence plot - branin\""
   ],
   "execution_count": 6,
   "outputs": []
  },
  {
   "cell_type": "code",
   "metadata": {
    "colab": {
     "background_save": true
    },
    "id": "WjpLumrq45_W",
    "pycharm": {
     "name": "#%%\n"
    }
   },
   "source": [
    "from skopt.utils import cook_initial_point_generator\n",
    "\n",
    "# Random search\n",
    "# dummy_res = run_measure(\"random\", n_initial_points)\n",
    "# lhs = cook_initial_point_generator(\n",
    "#     \"lhs\", lhs_type=\"classic\", criterion=None)\n",
    "# lhs_res = run_measure(lhs, n_initial_points)\n",
    "# lhs2 = cook_initial_point_generator(\"lhs\", criterion=\"maximin\")\n",
    "# lhs2_res = run_measure(lhs2, n_initial_points)\n",
    "# sobol = cook_initial_point_generator(\"sobol\", randomize=False,\n",
    "                                    #  min_skip=1, max_skip=100)\n",
    "sobol_res = run_measure(\"LCB\", n_initial_points)\n",
    "halton_res = run_measure(\"EI\", n_initial_points)\n",
    "hammersly_res = run_measure(\"PI\", n_initial_points)\n",
    "grid_res = run_measure(\"gp_hedge\", n_initial_points)"
   ],
   "execution_count": 7,
   "outputs": [
    {
     "name": "stderr",
     "output_type": "stream",
     "text": [
      "/home/hao/miniconda3/envs/NNBO/lib/python3.8/site-packages/skopt/optimizer/optimizer.py:449: UserWarning: The objective has been evaluated at this point before.\n",
      "  warnings.warn(\"The objective has been evaluated \"\n"
     ]
    }
   ]
  },
  {
   "cell_type": "markdown",
   "metadata": {
    "id": "l7rTq_Ts45_W",
    "pycharm": {
     "name": "#%% md\n"
    }
   },
   "source": [
    "Note that this can take a few minutes.\n",
    "\n"
   ]
  },
  {
   "cell_type": "code",
   "execution_count": 9,
   "outputs": [
    {
     "ename": "ValueError",
     "evalue": "expected acq_func to be in gp_hedge,EI,LCB,PI,EIps,PIps, got random",
     "output_type": "error",
     "traceback": [
      "\u001B[0;31m---------------------------------------------------------------------------\u001B[0m",
      "\u001B[0;31mValueError\u001B[0m                                Traceback (most recent call last)",
      "Input \u001B[0;32mIn [9]\u001B[0m, in \u001B[0;36m<cell line: 2>\u001B[0;34m()\u001B[0m\n\u001B[1;32m      1\u001B[0m \u001B[38;5;66;03m# Random search\u001B[39;00m\n\u001B[0;32m----> 2\u001B[0m dummy_res \u001B[38;5;241m=\u001B[39m \u001B[43mrun_measure\u001B[49m\u001B[43m(\u001B[49m\u001B[38;5;124;43m\"\u001B[39;49m\u001B[38;5;124;43mrandom\u001B[39;49m\u001B[38;5;124;43m\"\u001B[39;49m\u001B[43m,\u001B[49m\u001B[43m \u001B[49m\u001B[43mn_initial_points\u001B[49m\u001B[43m)\u001B[49m\n\u001B[1;32m      3\u001B[0m lhs2 \u001B[38;5;241m=\u001B[39m cook_initial_point_generator(\u001B[38;5;124m\"\u001B[39m\u001B[38;5;124mlhs\u001B[39m\u001B[38;5;124m\"\u001B[39m, criterion\u001B[38;5;241m=\u001B[39m\u001B[38;5;124m\"\u001B[39m\u001B[38;5;124mmaximin\u001B[39m\u001B[38;5;124m\"\u001B[39m)\n\u001B[1;32m      4\u001B[0m lhs2_res \u001B[38;5;241m=\u001B[39m run_measure(lhs2, n_initial_points)\n",
      "Input \u001B[0;32mIn [5]\u001B[0m, in \u001B[0;36mrun_measure\u001B[0;34m(acq_func, n_initial_points)\u001B[0m\n\u001B[1;32m     44\u001B[0m \u001B[38;5;66;03m# n_repeats must set to a much higher value to obtain meaningful results.\u001B[39;00m\n\u001B[1;32m     45\u001B[0m n_repeats \u001B[38;5;241m=\u001B[39m \u001B[38;5;241m1\u001B[39m\n\u001B[0;32m---> 46\u001B[0m res \u001B[38;5;241m=\u001B[39m \u001B[43mrun\u001B[49m\u001B[43m(\u001B[49m\u001B[43mgp_minimize\u001B[49m\u001B[43m,\u001B[49m\u001B[43m \u001B[49m\u001B[43macq_func\u001B[49m\u001B[43m,\u001B[49m\n\u001B[1;32m     47\u001B[0m \u001B[43m          \u001B[49m\u001B[43mn_initial_points\u001B[49m\u001B[38;5;241;43m=\u001B[39;49m\u001B[43mn_initial_points\u001B[49m\u001B[43m,\u001B[49m\u001B[43m \u001B[49m\u001B[43mn_repeats\u001B[49m\u001B[38;5;241;43m=\u001B[39;49m\u001B[43mn_repeats\u001B[49m\u001B[43m)\u001B[49m\n\u001B[1;32m     48\u001B[0m duration \u001B[38;5;241m=\u001B[39m time\u001B[38;5;241m.\u001B[39mtime() \u001B[38;5;241m-\u001B[39m start\n\u001B[1;32m     49\u001B[0m \u001B[38;5;66;03m# print(\"%s %s: %.2f s\" % (initial_point_generator,\u001B[39;00m\n\u001B[1;32m     50\u001B[0m \u001B[38;5;66;03m#                          str(init_point_gen_kwargs),\u001B[39;00m\n\u001B[1;32m     51\u001B[0m \u001B[38;5;66;03m#                          duration))\u001B[39;00m\n",
      "Input \u001B[0;32mIn [5]\u001B[0m, in \u001B[0;36mrun\u001B[0;34m(minimizer, acq_func, n_initial_points, n_repeats)\u001B[0m\n\u001B[1;32m     34\u001B[0m \u001B[38;5;28;01mdef\u001B[39;00m \u001B[38;5;21mrun\u001B[39m(minimizer, acq_func,\n\u001B[1;32m     35\u001B[0m         n_initial_points\u001B[38;5;241m=\u001B[39m\u001B[38;5;241m25\u001B[39m, n_repeats\u001B[38;5;241m=\u001B[39m\u001B[38;5;241m1\u001B[39m):\n\u001B[0;32m---> 36\u001B[0m     \u001B[38;5;28;01mreturn\u001B[39;00m [minimizer(func, bounds, n_initial_points\u001B[38;5;241m=\u001B[39mn_initial_points,\n\u001B[1;32m     37\u001B[0m                       acq_func \u001B[38;5;241m=\u001B[39m acq_func,\n\u001B[1;32m     38\u001B[0m                       n_calls\u001B[38;5;241m=\u001B[39mn_calls, random_state\u001B[38;5;241m=\u001B[39mn)\n\u001B[1;32m     39\u001B[0m             \u001B[38;5;28;01mfor\u001B[39;00m n \u001B[38;5;129;01min\u001B[39;00m \u001B[38;5;28mrange\u001B[39m(n_repeats)]\n",
      "Input \u001B[0;32mIn [5]\u001B[0m, in \u001B[0;36m<listcomp>\u001B[0;34m(.0)\u001B[0m\n\u001B[1;32m     34\u001B[0m \u001B[38;5;28;01mdef\u001B[39;00m \u001B[38;5;21mrun\u001B[39m(minimizer, acq_func,\n\u001B[1;32m     35\u001B[0m         n_initial_points\u001B[38;5;241m=\u001B[39m\u001B[38;5;241m25\u001B[39m, n_repeats\u001B[38;5;241m=\u001B[39m\u001B[38;5;241m1\u001B[39m):\n\u001B[0;32m---> 36\u001B[0m     \u001B[38;5;28;01mreturn\u001B[39;00m [\u001B[43mminimizer\u001B[49m\u001B[43m(\u001B[49m\u001B[43mfunc\u001B[49m\u001B[43m,\u001B[49m\u001B[43m \u001B[49m\u001B[43mbounds\u001B[49m\u001B[43m,\u001B[49m\u001B[43m \u001B[49m\u001B[43mn_initial_points\u001B[49m\u001B[38;5;241;43m=\u001B[39;49m\u001B[43mn_initial_points\u001B[49m\u001B[43m,\u001B[49m\n\u001B[1;32m     37\u001B[0m \u001B[43m                      \u001B[49m\u001B[43macq_func\u001B[49m\u001B[43m \u001B[49m\u001B[38;5;241;43m=\u001B[39;49m\u001B[43m \u001B[49m\u001B[43macq_func\u001B[49m\u001B[43m,\u001B[49m\n\u001B[1;32m     38\u001B[0m \u001B[43m                      \u001B[49m\u001B[43mn_calls\u001B[49m\u001B[38;5;241;43m=\u001B[39;49m\u001B[43mn_calls\u001B[49m\u001B[43m,\u001B[49m\u001B[43m \u001B[49m\u001B[43mrandom_state\u001B[49m\u001B[38;5;241;43m=\u001B[39;49m\u001B[43mn\u001B[49m\u001B[43m)\u001B[49m\n\u001B[1;32m     39\u001B[0m             \u001B[38;5;28;01mfor\u001B[39;00m n \u001B[38;5;129;01min\u001B[39;00m \u001B[38;5;28mrange\u001B[39m(n_repeats)]\n",
      "File \u001B[0;32m~/miniconda3/envs/NNBO/lib/python3.8/site-packages/skopt/optimizer/gp.py:259\u001B[0m, in \u001B[0;36mgp_minimize\u001B[0;34m(func, dimensions, base_estimator, n_calls, n_random_starts, n_initial_points, initial_point_generator, acq_func, acq_optimizer, x0, y0, random_state, verbose, callback, n_points, n_restarts_optimizer, xi, kappa, noise, n_jobs, model_queue_size)\u001B[0m\n\u001B[1;32m    254\u001B[0m \u001B[38;5;28;01mif\u001B[39;00m base_estimator \u001B[38;5;129;01mis\u001B[39;00m \u001B[38;5;28;01mNone\u001B[39;00m:\n\u001B[1;32m    255\u001B[0m     base_estimator \u001B[38;5;241m=\u001B[39m cook_estimator(\n\u001B[1;32m    256\u001B[0m         \u001B[38;5;124m\"\u001B[39m\u001B[38;5;124mGP\u001B[39m\u001B[38;5;124m\"\u001B[39m, space\u001B[38;5;241m=\u001B[39mspace, random_state\u001B[38;5;241m=\u001B[39mrng\u001B[38;5;241m.\u001B[39mrandint(\u001B[38;5;241m0\u001B[39m, np\u001B[38;5;241m.\u001B[39miinfo(np\u001B[38;5;241m.\u001B[39mint32)\u001B[38;5;241m.\u001B[39mmax),\n\u001B[1;32m    257\u001B[0m         noise\u001B[38;5;241m=\u001B[39mnoise)\n\u001B[0;32m--> 259\u001B[0m \u001B[38;5;28;01mreturn\u001B[39;00m \u001B[43mbase_minimize\u001B[49m\u001B[43m(\u001B[49m\n\u001B[1;32m    260\u001B[0m \u001B[43m    \u001B[49m\u001B[43mfunc\u001B[49m\u001B[43m,\u001B[49m\u001B[43m \u001B[49m\u001B[43mspace\u001B[49m\u001B[43m,\u001B[49m\u001B[43m \u001B[49m\u001B[43mbase_estimator\u001B[49m\u001B[38;5;241;43m=\u001B[39;49m\u001B[43mbase_estimator\u001B[49m\u001B[43m,\u001B[49m\n\u001B[1;32m    261\u001B[0m \u001B[43m    \u001B[49m\u001B[43macq_func\u001B[49m\u001B[38;5;241;43m=\u001B[39;49m\u001B[43macq_func\u001B[49m\u001B[43m,\u001B[49m\n\u001B[1;32m    262\u001B[0m \u001B[43m    \u001B[49m\u001B[43mxi\u001B[49m\u001B[38;5;241;43m=\u001B[39;49m\u001B[43mxi\u001B[49m\u001B[43m,\u001B[49m\u001B[43m \u001B[49m\u001B[43mkappa\u001B[49m\u001B[38;5;241;43m=\u001B[39;49m\u001B[43mkappa\u001B[49m\u001B[43m,\u001B[49m\u001B[43m \u001B[49m\u001B[43macq_optimizer\u001B[49m\u001B[38;5;241;43m=\u001B[39;49m\u001B[43macq_optimizer\u001B[49m\u001B[43m,\u001B[49m\u001B[43m \u001B[49m\u001B[43mn_calls\u001B[49m\u001B[38;5;241;43m=\u001B[39;49m\u001B[43mn_calls\u001B[49m\u001B[43m,\u001B[49m\n\u001B[1;32m    263\u001B[0m \u001B[43m    \u001B[49m\u001B[43mn_points\u001B[49m\u001B[38;5;241;43m=\u001B[39;49m\u001B[43mn_points\u001B[49m\u001B[43m,\u001B[49m\u001B[43m \u001B[49m\u001B[43mn_random_starts\u001B[49m\u001B[38;5;241;43m=\u001B[39;49m\u001B[43mn_random_starts\u001B[49m\u001B[43m,\u001B[49m\n\u001B[1;32m    264\u001B[0m \u001B[43m    \u001B[49m\u001B[43mn_initial_points\u001B[49m\u001B[38;5;241;43m=\u001B[39;49m\u001B[43mn_initial_points\u001B[49m\u001B[43m,\u001B[49m\n\u001B[1;32m    265\u001B[0m \u001B[43m    \u001B[49m\u001B[43minitial_point_generator\u001B[49m\u001B[38;5;241;43m=\u001B[39;49m\u001B[43minitial_point_generator\u001B[49m\u001B[43m,\u001B[49m\n\u001B[1;32m    266\u001B[0m \u001B[43m    \u001B[49m\u001B[43mn_restarts_optimizer\u001B[49m\u001B[38;5;241;43m=\u001B[39;49m\u001B[43mn_restarts_optimizer\u001B[49m\u001B[43m,\u001B[49m\n\u001B[1;32m    267\u001B[0m \u001B[43m    \u001B[49m\u001B[43mx0\u001B[49m\u001B[38;5;241;43m=\u001B[39;49m\u001B[43mx0\u001B[49m\u001B[43m,\u001B[49m\u001B[43m \u001B[49m\u001B[43my0\u001B[49m\u001B[38;5;241;43m=\u001B[39;49m\u001B[43my0\u001B[49m\u001B[43m,\u001B[49m\u001B[43m \u001B[49m\u001B[43mrandom_state\u001B[49m\u001B[38;5;241;43m=\u001B[39;49m\u001B[43mrng\u001B[49m\u001B[43m,\u001B[49m\u001B[43m \u001B[49m\u001B[43mverbose\u001B[49m\u001B[38;5;241;43m=\u001B[39;49m\u001B[43mverbose\u001B[49m\u001B[43m,\u001B[49m\n\u001B[1;32m    268\u001B[0m \u001B[43m    \u001B[49m\u001B[43mcallback\u001B[49m\u001B[38;5;241;43m=\u001B[39;49m\u001B[43mcallback\u001B[49m\u001B[43m,\u001B[49m\u001B[43m \u001B[49m\u001B[43mn_jobs\u001B[49m\u001B[38;5;241;43m=\u001B[39;49m\u001B[43mn_jobs\u001B[49m\u001B[43m,\u001B[49m\u001B[43m \u001B[49m\u001B[43mmodel_queue_size\u001B[49m\u001B[38;5;241;43m=\u001B[39;49m\u001B[43mmodel_queue_size\u001B[49m\u001B[43m)\u001B[49m\n",
      "File \u001B[0;32m~/miniconda3/envs/NNBO/lib/python3.8/site-packages/skopt/optimizer/base.py:254\u001B[0m, in \u001B[0;36mbase_minimize\u001B[0;34m(func, dimensions, base_estimator, n_calls, n_random_starts, n_initial_points, initial_point_generator, acq_func, acq_optimizer, x0, y0, random_state, verbose, callback, n_points, n_restarts_optimizer, xi, kappa, n_jobs, model_queue_size)\u001B[0m\n\u001B[1;32m    249\u001B[0m n_initial_points \u001B[38;5;241m=\u001B[39m n_initial_points \u001B[38;5;241m+\u001B[39m \u001B[38;5;28mlen\u001B[39m(x0)\n\u001B[1;32m    251\u001B[0m \u001B[38;5;66;03m# Build optimizer\u001B[39;00m\n\u001B[1;32m    252\u001B[0m \n\u001B[1;32m    253\u001B[0m \u001B[38;5;66;03m# create optimizer class\u001B[39;00m\n\u001B[0;32m--> 254\u001B[0m optimizer \u001B[38;5;241m=\u001B[39m \u001B[43mOptimizer\u001B[49m\u001B[43m(\u001B[49m\u001B[43mdimensions\u001B[49m\u001B[43m,\u001B[49m\u001B[43m \u001B[49m\u001B[43mbase_estimator\u001B[49m\u001B[43m,\u001B[49m\n\u001B[1;32m    255\u001B[0m \u001B[43m                      \u001B[49m\u001B[43mn_initial_points\u001B[49m\u001B[38;5;241;43m=\u001B[39;49m\u001B[43mn_initial_points\u001B[49m\u001B[43m,\u001B[49m\n\u001B[1;32m    256\u001B[0m \u001B[43m                      \u001B[49m\u001B[43minitial_point_generator\u001B[49m\u001B[38;5;241;43m=\u001B[39;49m\u001B[43minitial_point_generator\u001B[49m\u001B[43m,\u001B[49m\n\u001B[1;32m    257\u001B[0m \u001B[43m                      \u001B[49m\u001B[43mn_jobs\u001B[49m\u001B[38;5;241;43m=\u001B[39;49m\u001B[43mn_jobs\u001B[49m\u001B[43m,\u001B[49m\n\u001B[1;32m    258\u001B[0m \u001B[43m                      \u001B[49m\u001B[43macq_func\u001B[49m\u001B[38;5;241;43m=\u001B[39;49m\u001B[43macq_func\u001B[49m\u001B[43m,\u001B[49m\u001B[43m \u001B[49m\u001B[43macq_optimizer\u001B[49m\u001B[38;5;241;43m=\u001B[39;49m\u001B[43macq_optimizer\u001B[49m\u001B[43m,\u001B[49m\n\u001B[1;32m    259\u001B[0m \u001B[43m                      \u001B[49m\u001B[43mrandom_state\u001B[49m\u001B[38;5;241;43m=\u001B[39;49m\u001B[43mrandom_state\u001B[49m\u001B[43m,\u001B[49m\n\u001B[1;32m    260\u001B[0m \u001B[43m                      \u001B[49m\u001B[43mmodel_queue_size\u001B[49m\u001B[38;5;241;43m=\u001B[39;49m\u001B[43mmodel_queue_size\u001B[49m\u001B[43m,\u001B[49m\n\u001B[1;32m    261\u001B[0m \u001B[43m                      \u001B[49m\u001B[43macq_optimizer_kwargs\u001B[49m\u001B[38;5;241;43m=\u001B[39;49m\u001B[43macq_optimizer_kwargs\u001B[49m\u001B[43m,\u001B[49m\n\u001B[1;32m    262\u001B[0m \u001B[43m                      \u001B[49m\u001B[43macq_func_kwargs\u001B[49m\u001B[38;5;241;43m=\u001B[39;49m\u001B[43macq_func_kwargs\u001B[49m\u001B[43m)\u001B[49m\n\u001B[1;32m    263\u001B[0m \u001B[38;5;66;03m# check x0: element-wise data type, dimensionality\u001B[39;00m\n\u001B[1;32m    264\u001B[0m \u001B[38;5;28;01massert\u001B[39;00m \u001B[38;5;28mall\u001B[39m(\u001B[38;5;28misinstance\u001B[39m(p, Iterable) \u001B[38;5;28;01mfor\u001B[39;00m p \u001B[38;5;129;01min\u001B[39;00m x0)\n",
      "File \u001B[0;32m~/miniconda3/envs/NNBO/lib/python3.8/site-packages/skopt/optimizer/optimizer.py:186\u001B[0m, in \u001B[0;36mOptimizer.__init__\u001B[0;34m(self, dimensions, base_estimator, n_random_starts, n_initial_points, initial_point_generator, n_jobs, acq_func, acq_optimizer, random_state, model_queue_size, acq_func_kwargs, acq_optimizer_kwargs)\u001B[0m\n\u001B[1;32m    184\u001B[0m allowed_acq_funcs \u001B[38;5;241m=\u001B[39m [\u001B[38;5;124m\"\u001B[39m\u001B[38;5;124mgp_hedge\u001B[39m\u001B[38;5;124m\"\u001B[39m, \u001B[38;5;124m\"\u001B[39m\u001B[38;5;124mEI\u001B[39m\u001B[38;5;124m\"\u001B[39m, \u001B[38;5;124m\"\u001B[39m\u001B[38;5;124mLCB\u001B[39m\u001B[38;5;124m\"\u001B[39m, \u001B[38;5;124m\"\u001B[39m\u001B[38;5;124mPI\u001B[39m\u001B[38;5;124m\"\u001B[39m, \u001B[38;5;124m\"\u001B[39m\u001B[38;5;124mEIps\u001B[39m\u001B[38;5;124m\"\u001B[39m, \u001B[38;5;124m\"\u001B[39m\u001B[38;5;124mPIps\u001B[39m\u001B[38;5;124m\"\u001B[39m]\n\u001B[1;32m    185\u001B[0m \u001B[38;5;28;01mif\u001B[39;00m \u001B[38;5;28mself\u001B[39m\u001B[38;5;241m.\u001B[39macq_func \u001B[38;5;129;01mnot\u001B[39;00m \u001B[38;5;129;01min\u001B[39;00m allowed_acq_funcs:\n\u001B[0;32m--> 186\u001B[0m     \u001B[38;5;28;01mraise\u001B[39;00m \u001B[38;5;167;01mValueError\u001B[39;00m(\u001B[38;5;124m\"\u001B[39m\u001B[38;5;124mexpected acq_func to be in \u001B[39m\u001B[38;5;132;01m%s\u001B[39;00m\u001B[38;5;124m, got \u001B[39m\u001B[38;5;132;01m%s\u001B[39;00m\u001B[38;5;124m\"\u001B[39m \u001B[38;5;241m%\u001B[39m\n\u001B[1;32m    187\u001B[0m                      (\u001B[38;5;124m\"\u001B[39m\u001B[38;5;124m,\u001B[39m\u001B[38;5;124m\"\u001B[39m\u001B[38;5;241m.\u001B[39mjoin(allowed_acq_funcs), \u001B[38;5;28mself\u001B[39m\u001B[38;5;241m.\u001B[39macq_func))\n\u001B[1;32m    189\u001B[0m \u001B[38;5;66;03m# treat hedging method separately\u001B[39;00m\n\u001B[1;32m    190\u001B[0m \u001B[38;5;28;01mif\u001B[39;00m \u001B[38;5;28mself\u001B[39m\u001B[38;5;241m.\u001B[39macq_func \u001B[38;5;241m==\u001B[39m \u001B[38;5;124m\"\u001B[39m\u001B[38;5;124mgp_hedge\u001B[39m\u001B[38;5;124m\"\u001B[39m:\n",
      "\u001B[0;31mValueError\u001B[0m: expected acq_func to be in gp_hedge,EI,LCB,PI,EIps,PIps, got random"
     ]
    }
   ],
   "source": [
    "# # Random search\n",
    "# dummy_res = run_measure(\"random\", n_initial_points)\n",
    "# lhs2 = cook_initial_point_generator(\"lhs\", criterion=\"maximin\")\n",
    "# lhs2_res = run_measure(lhs2, n_initial_points)"
   ],
   "metadata": {
    "collapsed": false,
    "pycharm": {
     "name": "#%%\n"
    }
   }
  },
  {
   "cell_type": "code",
   "metadata": {
    "colab": {
     "base_uri": "https://localhost:8080/",
     "height": 631
    },
    "id": "6_XOLsEK45_W",
    "outputId": "435cb8b5-3daa-420e-939a-d1d6e41dd85e",
    "pycharm": {
     "name": "#%%\n"
    }
   },
   "source": [
    "plot = plot_convergence([(\"UCB\", sobol_res),\n",
    "                        (\"EI\", halton_res),\n",
    "                        (\"PI\", hammersly_res),\n",
    "                        (\"GP-HEDGE\", grid_res)],\n",
    "                        true_minimum=true_minimum,\n",
    "                        yscale=yscale,\n",
    "                        title=title)\n",
    "plt.show()"
   ],
   "execution_count": 10,
   "outputs": [
    {
     "name": "stdout",
     "output_type": "stream",
     "text": [
      "[0. 0. 0. 0. 0. 0. 0. 0. 0. 0. 0. 0. 0. 0. 0. 0. 0. 0. 0. 0. 0. 0. 0. 0.\n",
      " 0. 0. 0. 0. 0. 0. 0. 0. 0. 0. 0. 0. 0. 0. 0. 0. 0. 0. 0. 0. 0. 0. 0. 0.\n",
      " 0. 0. 0. 0. 0. 0. 0. 0. 0. 0. 0. 0. 0. 0. 0. 0. 0. 0. 0. 0. 0. 0. 0. 0.\n",
      " 0. 0. 0. 0. 0. 0. 0. 0. 0. 0. 0. 0. 0. 0. 0. 0. 0. 0. 0. 0. 0. 0. 0. 0.\n",
      " 0. 0. 0. 0.]\n",
      "[0. 0. 0. 0. 0. 0. 0. 0. 0. 0. 0. 0. 0. 0. 0. 0. 0. 0. 0. 0. 0. 0. 0. 0.\n",
      " 0. 0. 0. 0. 0. 0. 0. 0. 0. 0. 0. 0. 0. 0. 0. 0. 0. 0. 0. 0. 0. 0. 0. 0.\n",
      " 0. 0. 0. 0. 0. 0. 0. 0. 0. 0. 0. 0. 0. 0. 0. 0. 0. 0. 0. 0. 0. 0. 0. 0.\n",
      " 0. 0. 0. 0. 0. 0. 0. 0. 0. 0. 0. 0. 0. 0. 0. 0. 0. 0. 0. 0. 0. 0. 0. 0.\n",
      " 0. 0. 0. 0.]\n",
      "[0. 0. 0. 0. 0. 0. 0. 0. 0. 0. 0. 0. 0. 0. 0. 0. 0. 0. 0. 0. 0. 0. 0. 0.\n",
      " 0. 0. 0. 0. 0. 0. 0. 0. 0. 0. 0. 0. 0. 0. 0. 0. 0. 0. 0. 0. 0. 0. 0. 0.\n",
      " 0. 0. 0. 0. 0. 0. 0. 0. 0. 0. 0. 0. 0. 0. 0. 0. 0. 0. 0. 0. 0. 0. 0. 0.\n",
      " 0. 0. 0. 0. 0. 0. 0. 0. 0. 0. 0. 0. 0. 0. 0. 0. 0. 0. 0. 0. 0. 0. 0. 0.\n",
      " 0. 0. 0. 0.]\n",
      "[0. 0. 0. 0. 0. 0. 0. 0. 0. 0. 0. 0. 0. 0. 0. 0. 0. 0. 0. 0. 0. 0. 0. 0.\n",
      " 0. 0. 0. 0. 0. 0. 0. 0. 0. 0. 0. 0. 0. 0. 0. 0. 0. 0. 0. 0. 0. 0. 0. 0.\n",
      " 0. 0. 0. 0. 0. 0. 0. 0. 0. 0. 0. 0. 0. 0. 0. 0. 0. 0. 0. 0. 0. 0. 0. 0.\n",
      " 0. 0. 0. 0. 0. 0. 0. 0. 0. 0. 0. 0. 0. 0. 0. 0. 0. 0. 0. 0. 0. 0. 0. 0.\n",
      " 0. 0. 0. 0.]\n"
     ]
    },
    {
     "data": {
      "text/plain": "<Figure size 432x288 with 1 Axes>",
      "image/png": "[encoded data removed]"
     },
     "metadata": {
      "needs_background": "light"
     },
     "output_type": "display_data"
    }
   ]
  },
  {
   "cell_type": "markdown",
   "metadata": {
    "id": "T94Zz0-S45_W",
    "pycharm": {
     "name": "#%% md\n"
    }
   },
   "source": [
    "This plot shows the value of the minimum found (y axis) as a function\n",
    "of the number of iterations performed so far (x axis). The dashed red line\n",
    "indicates the true value of the minimum of the :class:`benchmarks.hart6`\n",
    "function.\n",
    "\n"
   ]
  },
  {
   "cell_type": "markdown",
   "metadata": {
    "id": "ZIgKhWdn45_W",
    "pycharm": {
     "name": "#%% md\n"
    }
   },
   "source": [
    "Test with different n_random_starts values\n",
    "\n"
   ]
  },
  {
   "cell_type": "code",
   "metadata": {
    "id": "Ki4bna8c45_W",
    "pycharm": {
     "name": "#%%\n"
    }
   },
   "source": [
    "lhs2 = cook_initial_point_generator(\"lhs\", criterion=\"maximin\")\n",
    "lhs2_15_res = run_measure(lhs2, 12)\n",
    "lhs2_20_res = run_measure(lhs2, 14)\n",
    "lhs2_25_res = run_measure(lhs2, 16)"
   ],
   "execution_count": 11,
   "outputs": [
    {
     "ename": "ValueError",
     "evalue": "expected acq_func to be in gp_hedge,EI,LCB,PI,EIps,PIps, got <skopt.sampler.lhs.Lhs object at 0x7f543a38ce50>",
     "output_type": "error",
     "traceback": [
      "\u001B[0;31m---------------------------------------------------------------------------\u001B[0m",
      "\u001B[0;31mValueError\u001B[0m                                Traceback (most recent call last)",
      "Input \u001B[0;32mIn [11]\u001B[0m, in \u001B[0;36m<cell line: 2>\u001B[0;34m()\u001B[0m\n\u001B[1;32m      1\u001B[0m lhs2 \u001B[38;5;241m=\u001B[39m cook_initial_point_generator(\u001B[38;5;124m\"\u001B[39m\u001B[38;5;124mlhs\u001B[39m\u001B[38;5;124m\"\u001B[39m, criterion\u001B[38;5;241m=\u001B[39m\u001B[38;5;124m\"\u001B[39m\u001B[38;5;124mmaximin\u001B[39m\u001B[38;5;124m\"\u001B[39m)\n\u001B[0;32m----> 2\u001B[0m lhs2_15_res \u001B[38;5;241m=\u001B[39m \u001B[43mrun_measure\u001B[49m\u001B[43m(\u001B[49m\u001B[43mlhs2\u001B[49m\u001B[43m,\u001B[49m\u001B[43m \u001B[49m\u001B[38;5;241;43m12\u001B[39;49m\u001B[43m)\u001B[49m\n\u001B[1;32m      3\u001B[0m lhs2_20_res \u001B[38;5;241m=\u001B[39m run_measure(lhs2, \u001B[38;5;241m14\u001B[39m)\n\u001B[1;32m      4\u001B[0m lhs2_25_res \u001B[38;5;241m=\u001B[39m run_measure(lhs2, \u001B[38;5;241m16\u001B[39m)\n",
      "Input \u001B[0;32mIn [5]\u001B[0m, in \u001B[0;36mrun_measure\u001B[0;34m(acq_func, n_initial_points)\u001B[0m\n\u001B[1;32m     44\u001B[0m \u001B[38;5;66;03m# n_repeats must set to a much higher value to obtain meaningful results.\u001B[39;00m\n\u001B[1;32m     45\u001B[0m n_repeats \u001B[38;5;241m=\u001B[39m \u001B[38;5;241m1\u001B[39m\n\u001B[0;32m---> 46\u001B[0m res \u001B[38;5;241m=\u001B[39m \u001B[43mrun\u001B[49m\u001B[43m(\u001B[49m\u001B[43mgp_minimize\u001B[49m\u001B[43m,\u001B[49m\u001B[43m \u001B[49m\u001B[43macq_func\u001B[49m\u001B[43m,\u001B[49m\n\u001B[1;32m     47\u001B[0m \u001B[43m          \u001B[49m\u001B[43mn_initial_points\u001B[49m\u001B[38;5;241;43m=\u001B[39;49m\u001B[43mn_initial_points\u001B[49m\u001B[43m,\u001B[49m\u001B[43m \u001B[49m\u001B[43mn_repeats\u001B[49m\u001B[38;5;241;43m=\u001B[39;49m\u001B[43mn_repeats\u001B[49m\u001B[43m)\u001B[49m\n\u001B[1;32m     48\u001B[0m duration \u001B[38;5;241m=\u001B[39m time\u001B[38;5;241m.\u001B[39mtime() \u001B[38;5;241m-\u001B[39m start\n\u001B[1;32m     49\u001B[0m \u001B[38;5;66;03m# print(\"%s %s: %.2f s\" % (initial_point_generator,\u001B[39;00m\n\u001B[1;32m     50\u001B[0m \u001B[38;5;66;03m#                          str(init_point_gen_kwargs),\u001B[39;00m\n\u001B[1;32m     51\u001B[0m \u001B[38;5;66;03m#                          duration))\u001B[39;00m\n",
      "Input \u001B[0;32mIn [5]\u001B[0m, in \u001B[0;36mrun\u001B[0;34m(minimizer, acq_func, n_initial_points, n_repeats)\u001B[0m\n\u001B[1;32m     34\u001B[0m \u001B[38;5;28;01mdef\u001B[39;00m \u001B[38;5;21mrun\u001B[39m(minimizer, acq_func,\n\u001B[1;32m     35\u001B[0m         n_initial_points\u001B[38;5;241m=\u001B[39m\u001B[38;5;241m25\u001B[39m, n_repeats\u001B[38;5;241m=\u001B[39m\u001B[38;5;241m1\u001B[39m):\n\u001B[0;32m---> 36\u001B[0m     \u001B[38;5;28;01mreturn\u001B[39;00m [minimizer(func, bounds, n_initial_points\u001B[38;5;241m=\u001B[39mn_initial_points,\n\u001B[1;32m     37\u001B[0m                       acq_func \u001B[38;5;241m=\u001B[39m acq_func,\n\u001B[1;32m     38\u001B[0m                       n_calls\u001B[38;5;241m=\u001B[39mn_calls, random_state\u001B[38;5;241m=\u001B[39mn)\n\u001B[1;32m     39\u001B[0m             \u001B[38;5;28;01mfor\u001B[39;00m n \u001B[38;5;129;01min\u001B[39;00m \u001B[38;5;28mrange\u001B[39m(n_repeats)]\n",
      "Input \u001B[0;32mIn [5]\u001B[0m, in \u001B[0;36m<listcomp>\u001B[0;34m(.0)\u001B[0m\n\u001B[1;32m     34\u001B[0m \u001B[38;5;28;01mdef\u001B[39;00m \u001B[38;5;21mrun\u001B[39m(minimizer, acq_func,\n\u001B[1;32m     35\u001B[0m         n_initial_points\u001B[38;5;241m=\u001B[39m\u001B[38;5;241m25\u001B[39m, n_repeats\u001B[38;5;241m=\u001B[39m\u001B[38;5;241m1\u001B[39m):\n\u001B[0;32m---> 36\u001B[0m     \u001B[38;5;28;01mreturn\u001B[39;00m [\u001B[43mminimizer\u001B[49m\u001B[43m(\u001B[49m\u001B[43mfunc\u001B[49m\u001B[43m,\u001B[49m\u001B[43m \u001B[49m\u001B[43mbounds\u001B[49m\u001B[43m,\u001B[49m\u001B[43m \u001B[49m\u001B[43mn_initial_points\u001B[49m\u001B[38;5;241;43m=\u001B[39;49m\u001B[43mn_initial_points\u001B[49m\u001B[43m,\u001B[49m\n\u001B[1;32m     37\u001B[0m \u001B[43m                      \u001B[49m\u001B[43macq_func\u001B[49m\u001B[43m \u001B[49m\u001B[38;5;241;43m=\u001B[39;49m\u001B[43m \u001B[49m\u001B[43macq_func\u001B[49m\u001B[43m,\u001B[49m\n\u001B[1;32m     38\u001B[0m \u001B[43m                      \u001B[49m\u001B[43mn_calls\u001B[49m\u001B[38;5;241;43m=\u001B[39;49m\u001B[43mn_calls\u001B[49m\u001B[43m,\u001B[49m\u001B[43m \u001B[49m\u001B[43mrandom_state\u001B[49m\u001B[38;5;241;43m=\u001B[39;49m\u001B[43mn\u001B[49m\u001B[43m)\u001B[49m\n\u001B[1;32m     39\u001B[0m             \u001B[38;5;28;01mfor\u001B[39;00m n \u001B[38;5;129;01min\u001B[39;00m \u001B[38;5;28mrange\u001B[39m(n_repeats)]\n",
      "File \u001B[0;32m~/miniconda3/envs/NNBO/lib/python3.8/site-packages/skopt/optimizer/gp.py:259\u001B[0m, in \u001B[0;36mgp_minimize\u001B[0;34m(func, dimensions, base_estimator, n_calls, n_random_starts, n_initial_points, initial_point_generator, acq_func, acq_optimizer, x0, y0, random_state, verbose, callback, n_points, n_restarts_optimizer, xi, kappa, noise, n_jobs, model_queue_size)\u001B[0m\n\u001B[1;32m    254\u001B[0m \u001B[38;5;28;01mif\u001B[39;00m base_estimator \u001B[38;5;129;01mis\u001B[39;00m \u001B[38;5;28;01mNone\u001B[39;00m:\n\u001B[1;32m    255\u001B[0m     base_estimator \u001B[38;5;241m=\u001B[39m cook_estimator(\n\u001B[1;32m    256\u001B[0m         \u001B[38;5;124m\"\u001B[39m\u001B[38;5;124mGP\u001B[39m\u001B[38;5;124m\"\u001B[39m, space\u001B[38;5;241m=\u001B[39mspace, random_state\u001B[38;5;241m=\u001B[39mrng\u001B[38;5;241m.\u001B[39mrandint(\u001B[38;5;241m0\u001B[39m, np\u001B[38;5;241m.\u001B[39miinfo(np\u001B[38;5;241m.\u001B[39mint32)\u001B[38;5;241m.\u001B[39mmax),\n\u001B[1;32m    257\u001B[0m         noise\u001B[38;5;241m=\u001B[39mnoise)\n\u001B[0;32m--> 259\u001B[0m \u001B[38;5;28;01mreturn\u001B[39;00m \u001B[43mbase_minimize\u001B[49m\u001B[43m(\u001B[49m\n\u001B[1;32m    260\u001B[0m \u001B[43m    \u001B[49m\u001B[43mfunc\u001B[49m\u001B[43m,\u001B[49m\u001B[43m \u001B[49m\u001B[43mspace\u001B[49m\u001B[43m,\u001B[49m\u001B[43m \u001B[49m\u001B[43mbase_estimator\u001B[49m\u001B[38;5;241;43m=\u001B[39;49m\u001B[43mbase_estimator\u001B[49m\u001B[43m,\u001B[49m\n\u001B[1;32m    261\u001B[0m \u001B[43m    \u001B[49m\u001B[43macq_func\u001B[49m\u001B[38;5;241;43m=\u001B[39;49m\u001B[43macq_func\u001B[49m\u001B[43m,\u001B[49m\n\u001B[1;32m    262\u001B[0m \u001B[43m    \u001B[49m\u001B[43mxi\u001B[49m\u001B[38;5;241;43m=\u001B[39;49m\u001B[43mxi\u001B[49m\u001B[43m,\u001B[49m\u001B[43m \u001B[49m\u001B[43mkappa\u001B[49m\u001B[38;5;241;43m=\u001B[39;49m\u001B[43mkappa\u001B[49m\u001B[43m,\u001B[49m\u001B[43m \u001B[49m\u001B[43macq_optimizer\u001B[49m\u001B[38;5;241;43m=\u001B[39;49m\u001B[43macq_optimizer\u001B[49m\u001B[43m,\u001B[49m\u001B[43m \u001B[49m\u001B[43mn_calls\u001B[49m\u001B[38;5;241;43m=\u001B[39;49m\u001B[43mn_calls\u001B[49m\u001B[43m,\u001B[49m\n\u001B[1;32m    263\u001B[0m \u001B[43m    \u001B[49m\u001B[43mn_points\u001B[49m\u001B[38;5;241;43m=\u001B[39;49m\u001B[43mn_points\u001B[49m\u001B[43m,\u001B[49m\u001B[43m \u001B[49m\u001B[43mn_random_starts\u001B[49m\u001B[38;5;241;43m=\u001B[39;49m\u001B[43mn_random_starts\u001B[49m\u001B[43m,\u001B[49m\n\u001B[1;32m    264\u001B[0m \u001B[43m    \u001B[49m\u001B[43mn_initial_points\u001B[49m\u001B[38;5;241;43m=\u001B[39;49m\u001B[43mn_initial_points\u001B[49m\u001B[43m,\u001B[49m\n\u001B[1;32m    265\u001B[0m \u001B[43m    \u001B[49m\u001B[43minitial_point_generator\u001B[49m\u001B[38;5;241;43m=\u001B[39;49m\u001B[43minitial_point_generator\u001B[49m\u001B[43m,\u001B[49m\n\u001B[1;32m    266\u001B[0m \u001B[43m    \u001B[49m\u001B[43mn_restarts_optimizer\u001B[49m\u001B[38;5;241;43m=\u001B[39;49m\u001B[43mn_restarts_optimizer\u001B[49m\u001B[43m,\u001B[49m\n\u001B[1;32m    267\u001B[0m \u001B[43m    \u001B[49m\u001B[43mx0\u001B[49m\u001B[38;5;241;43m=\u001B[39;49m\u001B[43mx0\u001B[49m\u001B[43m,\u001B[49m\u001B[43m \u001B[49m\u001B[43my0\u001B[49m\u001B[38;5;241;43m=\u001B[39;49m\u001B[43my0\u001B[49m\u001B[43m,\u001B[49m\u001B[43m \u001B[49m\u001B[43mrandom_state\u001B[49m\u001B[38;5;241;43m=\u001B[39;49m\u001B[43mrng\u001B[49m\u001B[43m,\u001B[49m\u001B[43m \u001B[49m\u001B[43mverbose\u001B[49m\u001B[38;5;241;43m=\u001B[39;49m\u001B[43mverbose\u001B[49m\u001B[43m,\u001B[49m\n\u001B[1;32m    268\u001B[0m \u001B[43m    \u001B[49m\u001B[43mcallback\u001B[49m\u001B[38;5;241;43m=\u001B[39;49m\u001B[43mcallback\u001B[49m\u001B[43m,\u001B[49m\u001B[43m \u001B[49m\u001B[43mn_jobs\u001B[49m\u001B[38;5;241;43m=\u001B[39;49m\u001B[43mn_jobs\u001B[49m\u001B[43m,\u001B[49m\u001B[43m \u001B[49m\u001B[43mmodel_queue_size\u001B[49m\u001B[38;5;241;43m=\u001B[39;49m\u001B[43mmodel_queue_size\u001B[49m\u001B[43m)\u001B[49m\n",
      "File \u001B[0;32m~/miniconda3/envs/NNBO/lib/python3.8/site-packages/skopt/optimizer/base.py:254\u001B[0m, in \u001B[0;36mbase_minimize\u001B[0;34m(func, dimensions, base_estimator, n_calls, n_random_starts, n_initial_points, initial_point_generator, acq_func, acq_optimizer, x0, y0, random_state, verbose, callback, n_points, n_restarts_optimizer, xi, kappa, n_jobs, model_queue_size)\u001B[0m\n\u001B[1;32m    249\u001B[0m n_initial_points \u001B[38;5;241m=\u001B[39m n_initial_points \u001B[38;5;241m+\u001B[39m \u001B[38;5;28mlen\u001B[39m(x0)\n\u001B[1;32m    251\u001B[0m \u001B[38;5;66;03m# Build optimizer\u001B[39;00m\n\u001B[1;32m    252\u001B[0m \n\u001B[1;32m    253\u001B[0m \u001B[38;5;66;03m# create optimizer class\u001B[39;00m\n\u001B[0;32m--> 254\u001B[0m optimizer \u001B[38;5;241m=\u001B[39m \u001B[43mOptimizer\u001B[49m\u001B[43m(\u001B[49m\u001B[43mdimensions\u001B[49m\u001B[43m,\u001B[49m\u001B[43m \u001B[49m\u001B[43mbase_estimator\u001B[49m\u001B[43m,\u001B[49m\n\u001B[1;32m    255\u001B[0m \u001B[43m                      \u001B[49m\u001B[43mn_initial_points\u001B[49m\u001B[38;5;241;43m=\u001B[39;49m\u001B[43mn_initial_points\u001B[49m\u001B[43m,\u001B[49m\n\u001B[1;32m    256\u001B[0m \u001B[43m                      \u001B[49m\u001B[43minitial_point_generator\u001B[49m\u001B[38;5;241;43m=\u001B[39;49m\u001B[43minitial_point_generator\u001B[49m\u001B[43m,\u001B[49m\n\u001B[1;32m    257\u001B[0m \u001B[43m                      \u001B[49m\u001B[43mn_jobs\u001B[49m\u001B[38;5;241;43m=\u001B[39;49m\u001B[43mn_jobs\u001B[49m\u001B[43m,\u001B[49m\n\u001B[1;32m    258\u001B[0m \u001B[43m                      \u001B[49m\u001B[43macq_func\u001B[49m\u001B[38;5;241;43m=\u001B[39;49m\u001B[43macq_func\u001B[49m\u001B[43m,\u001B[49m\u001B[43m \u001B[49m\u001B[43macq_optimizer\u001B[49m\u001B[38;5;241;43m=\u001B[39;49m\u001B[43macq_optimizer\u001B[49m\u001B[43m,\u001B[49m\n\u001B[1;32m    259\u001B[0m \u001B[43m                      \u001B[49m\u001B[43mrandom_state\u001B[49m\u001B[38;5;241;43m=\u001B[39;49m\u001B[43mrandom_state\u001B[49m\u001B[43m,\u001B[49m\n\u001B[1;32m    260\u001B[0m \u001B[43m                      \u001B[49m\u001B[43mmodel_queue_size\u001B[49m\u001B[38;5;241;43m=\u001B[39;49m\u001B[43mmodel_queue_size\u001B[49m\u001B[43m,\u001B[49m\n\u001B[1;32m    261\u001B[0m \u001B[43m                      \u001B[49m\u001B[43macq_optimizer_kwargs\u001B[49m\u001B[38;5;241;43m=\u001B[39;49m\u001B[43macq_optimizer_kwargs\u001B[49m\u001B[43m,\u001B[49m\n\u001B[1;32m    262\u001B[0m \u001B[43m                      \u001B[49m\u001B[43macq_func_kwargs\u001B[49m\u001B[38;5;241;43m=\u001B[39;49m\u001B[43macq_func_kwargs\u001B[49m\u001B[43m)\u001B[49m\n\u001B[1;32m    263\u001B[0m \u001B[38;5;66;03m# check x0: element-wise data type, dimensionality\u001B[39;00m\n\u001B[1;32m    264\u001B[0m \u001B[38;5;28;01massert\u001B[39;00m \u001B[38;5;28mall\u001B[39m(\u001B[38;5;28misinstance\u001B[39m(p, Iterable) \u001B[38;5;28;01mfor\u001B[39;00m p \u001B[38;5;129;01min\u001B[39;00m x0)\n",
      "File \u001B[0;32m~/miniconda3/envs/NNBO/lib/python3.8/site-packages/skopt/optimizer/optimizer.py:186\u001B[0m, in \u001B[0;36mOptimizer.__init__\u001B[0;34m(self, dimensions, base_estimator, n_random_starts, n_initial_points, initial_point_generator, n_jobs, acq_func, acq_optimizer, random_state, model_queue_size, acq_func_kwargs, acq_optimizer_kwargs)\u001B[0m\n\u001B[1;32m    184\u001B[0m allowed_acq_funcs \u001B[38;5;241m=\u001B[39m [\u001B[38;5;124m\"\u001B[39m\u001B[38;5;124mgp_hedge\u001B[39m\u001B[38;5;124m\"\u001B[39m, \u001B[38;5;124m\"\u001B[39m\u001B[38;5;124mEI\u001B[39m\u001B[38;5;124m\"\u001B[39m, \u001B[38;5;124m\"\u001B[39m\u001B[38;5;124mLCB\u001B[39m\u001B[38;5;124m\"\u001B[39m, \u001B[38;5;124m\"\u001B[39m\u001B[38;5;124mPI\u001B[39m\u001B[38;5;124m\"\u001B[39m, \u001B[38;5;124m\"\u001B[39m\u001B[38;5;124mEIps\u001B[39m\u001B[38;5;124m\"\u001B[39m, \u001B[38;5;124m\"\u001B[39m\u001B[38;5;124mPIps\u001B[39m\u001B[38;5;124m\"\u001B[39m]\n\u001B[1;32m    185\u001B[0m \u001B[38;5;28;01mif\u001B[39;00m \u001B[38;5;28mself\u001B[39m\u001B[38;5;241m.\u001B[39macq_func \u001B[38;5;129;01mnot\u001B[39;00m \u001B[38;5;129;01min\u001B[39;00m allowed_acq_funcs:\n\u001B[0;32m--> 186\u001B[0m     \u001B[38;5;28;01mraise\u001B[39;00m \u001B[38;5;167;01mValueError\u001B[39;00m(\u001B[38;5;124m\"\u001B[39m\u001B[38;5;124mexpected acq_func to be in \u001B[39m\u001B[38;5;132;01m%s\u001B[39;00m\u001B[38;5;124m, got \u001B[39m\u001B[38;5;132;01m%s\u001B[39;00m\u001B[38;5;124m\"\u001B[39m \u001B[38;5;241m%\u001B[39m\n\u001B[1;32m    187\u001B[0m                      (\u001B[38;5;124m\"\u001B[39m\u001B[38;5;124m,\u001B[39m\u001B[38;5;124m\"\u001B[39m\u001B[38;5;241m.\u001B[39mjoin(allowed_acq_funcs), \u001B[38;5;28mself\u001B[39m\u001B[38;5;241m.\u001B[39macq_func))\n\u001B[1;32m    189\u001B[0m \u001B[38;5;66;03m# treat hedging method separately\u001B[39;00m\n\u001B[1;32m    190\u001B[0m \u001B[38;5;28;01mif\u001B[39;00m \u001B[38;5;28mself\u001B[39m\u001B[38;5;241m.\u001B[39macq_func \u001B[38;5;241m==\u001B[39m \u001B[38;5;124m\"\u001B[39m\u001B[38;5;124mgp_hedge\u001B[39m\u001B[38;5;124m\"\u001B[39m:\n",
      "\u001B[0;31mValueError\u001B[0m: expected acq_func to be in gp_hedge,EI,LCB,PI,EIps,PIps, got <skopt.sampler.lhs.Lhs object at 0x7f543a38ce50>"
     ]
    }
   ]
  },
  {
   "cell_type": "markdown",
   "metadata": {
    "id": "C7vXXTAP45_W",
    "pycharm": {
     "name": "#%% md\n"
    }
   },
   "source": [
    "n_random_starts = 10 produces the best results\n",
    "\n"
   ]
  },
  {
   "cell_type": "code",
   "metadata": {
    "id": "dV1URaqL45_W",
    "pycharm": {
     "name": "#%%\n"
    }
   },
   "source": [
    "# plot = plot_convergence([(\"random - 10\", dummy_res),\n",
    "#                         (\"lhs_maximin - 10\", lhs2_res),\n",
    "#                         (\"lhs_maximin - 12\", lhs2_15_res),\n",
    "#                         (\"lhs_maximin - 14\", lhs2_20_res),\n",
    "#                         (\"lhs_maximin - 16\", lhs2_25_res)],\n",
    "#                         true_minimum=true_minimum,\n",
    "#                         yscale=yscale,\n",
    "#                         title=title)\n",
    "#\n",
    "# plt.show()"
   ],
   "execution_count": null,
   "outputs": []
  },
  {
   "cell_type": "code",
   "execution_count": null,
   "outputs": [],
   "source": [
    "plot = plot_convergence([(\"lhs_maximin - 12\", lhs2_15_res),\n",
    "                        (\"lhs_maximin - 14\", lhs2_20_res),\n",
    "                        (\"lhs_maximin - 16\", lhs2_25_res)],\n",
    "                        true_minimum=true_minimum,\n",
    "                        yscale=yscale,\n",
    "                        title=title)\n",
    "\n",
    "plt.show()"
   ],
   "metadata": {
    "collapsed": false,
    "pycharm": {
     "name": "#%%\n"
    }
   }
  }
 ]
}